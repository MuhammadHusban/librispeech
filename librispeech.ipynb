{
  "nbformat": 4,
  "nbformat_minor": 0,
  "metadata": {
    "colab": {
      "provenance": []
    },
    "kernelspec": {
      "name": "python3",
      "display_name": "Python 3"
    },
    "language_info": {
      "name": "python"
    },
    "accelerator": "GPU",
    "gpuClass": "standard"
  },
  "cells": [
    {
      "cell_type": "code",
      "source": [
        "import os\n",
        "import tarfile\n",
        "import urllib.request\n",
        "import numpy as np\n",
        "import librosa\n",
        "import tensorflow as tf\n"
      ],
      "metadata": {
        "id": "w46bAqff0DUV"
      },
      "execution_count": null,
      "outputs": []
    },
    {
      "cell_type": "code",
      "execution_count": null,
      "metadata": {
        "colab": {
          "base_uri": "https://localhost:8080/"
        },
        "id": "q9MZoh2Vyb3b",
        "outputId": "4686ee2e-64e9-4d24-8730-ae6ad20379c9"
      },
      "outputs": [
        {
          "output_type": "execute_result",
          "data": {
            "text/plain": [
              "('dev-clean.tar.gz', <http.client.HTTPMessage at 0x7f0f9a5f3f70>)"
            ]
          },
          "metadata": {},
          "execution_count": 2
        }
      ],
      "source": [
        "# Download the dataset\n",
        "url = \"http://www.openslr.org/resources/12/train-clean-360.tar.gz\"\n",
        "filename = \"dev-clean.tar.gz\"\n",
        "urllib.request.urlretrieve(url, filename)"
      ]
    },
    {
      "cell_type": "code",
      "source": [
        "# Extract the dataset\n",
        "with tarfile.open(filename, \"r:gz\") as tar:\n",
        "    tar.extractall()\n",
        "    tar.close()"
      ],
      "metadata": {
        "id": "wXCo1re0yiUJ"
      },
      "execution_count": null,
      "outputs": []
    },
    {
      "cell_type": "code",
      "source": [
        "import os\n",
        "import numpy as np\n",
        "import librosa\n",
        "\n",
        "# Function to extract features from audio file\n",
        "def extract_feature(file_path):\n",
        "    try:\n",
        "        audio, sr = librosa.load(file_path, res_type='kaiser_fast')\n",
        "        mfccs = librosa.feature.mfcc(y=audio, sr=sr, n_mfcc=40)\n",
        "        mfccs_processed = np.mean(mfccs.T,axis=0)\n",
        "    except Exception as e:\n",
        "        print(\"Error encountered while parsing file: \", file_path)\n",
        "        return None, None\n",
        "    return np.array([mfccs_processed]), np.array([len(audio)/sr])\n",
        "\n",
        "# Function to process the entire dataset\n",
        "def process_dataset(dataset_path):\n",
        "    X, y = [], []\n",
        "    labels = []\n",
        "    label_count = 0\n",
        "    \n",
        "    # Iterate through all folders and files in the dataset directory\n",
        "    for root, dirs, files in os.walk(dataset_path):\n",
        "        for file in files:\n",
        "            if file.endswith('.flac'):\n",
        "                # Extract label from folder name\n",
        "                label = root.split('/')[-1]\n",
        "                if label not in labels:\n",
        "                    labels.append(label)\n",
        "                    label_count += 1\n",
        "                label_id = labels.index(label)\n",
        "                \n",
        "                file_path = os.path.join(root, file)\n",
        "                feature, duration = extract_feature(file_path)\n",
        "                if feature is not None:\n",
        "                    X.append(feature)\n",
        "                    y.append(label_id)\n",
        "    \n",
        "    X = np.array(X)\n",
        "    y = np.array(y)\n",
        "    return X, y, labels\n",
        "\n",
        "import tensorflow as tf\n",
        "from tensorflow.keras.layers import Input, Dense, Dropout, LSTM, Bidirectional\n",
        "from tensorflow.keras.models import Model\n",
        "from tensorflow.keras.callbacks import EarlyStopping\n",
        "\n",
        "# Set seed for reproducibility\n",
        "np.random.seed(1234)\n",
        "tf.random.set_seed(1234)\n",
        "\n",
        "# Load the dataset\n",
        "X, y, labels = process_dataset('/content/LibriSpeech')\n"
      ],
      "metadata": {
        "id": "03mL5BlNSjel"
      },
      "execution_count": null,
      "outputs": []
    },
    {
      "cell_type": "code",
      "source": [
        "inputs = Input(shape=(X.shape[1], X.shape[2]))\n",
        "x = Bidirectional(LSTM(units=256, return_sequences=True))(inputs)\n",
        "x = Dropout(0.3)(x)\n",
        "x = Bidirectional(LSTM(units=256))(x)\n",
        "x = Dropout(0.3)(x)\n",
        "x = Dense(units=128, activation='relu')(x)\n",
        "outputs = Dense(len(labels), activation='softmax')(x)\n",
        "model = Model(inputs=inputs, outputs=outputs)\n",
        "\n",
        "# Compile the model\n",
        "model.compile(loss='sparse_categorical_crossentropy', optimizer='adam', metrics=['accuracy'])\n",
        "\n",
        "# Train the model\n",
        "early_stop = EarlyStopping(monitor='val_loss', patience=5, verbose=1)"
      ],
      "metadata": {
        "id": "qJVNTNYRYjtt"
      },
      "execution_count": null,
      "outputs": []
    },
    {
      "cell_type": "code",
      "source": [
        "history = model.fit(X, y, validation_split=0.2, epochs=50, batch_size=32)\n"
      ],
      "metadata": {
        "id": "YlNfIIZJUJen"
      },
      "execution_count": null,
      "outputs": []
    },
    {
      "cell_type": "code",
      "source": [
        "X.shape"
      ],
      "metadata": {
        "id": "7K_PU9sVWeyv"
      },
      "execution_count": null,
      "outputs": []
    },
    {
      "cell_type": "code",
      "source": [
        "len(labels)"
      ],
      "metadata": {
        "id": "pdGKOlXGaRH1"
      },
      "execution_count": null,
      "outputs": []
    },
    {
      "cell_type": "code",
      "source": [],
      "metadata": {
        "id": "jt8XYided9yJ"
      },
      "execution_count": null,
      "outputs": []
    },
    {
      "cell_type": "code",
      "source": [],
      "metadata": {
        "id": "Up_PidDzeMSg"
      },
      "execution_count": null,
      "outputs": []
    }
  ]
}